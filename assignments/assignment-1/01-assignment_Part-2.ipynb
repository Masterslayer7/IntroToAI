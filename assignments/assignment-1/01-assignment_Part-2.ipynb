{
 "cells": [
  {
   "cell_type": "markdown",
   "id": "c62664ab",
   "metadata": {},
   "source": [
    "# Simulation - Sparsity in High Dimensions\n",
    "\n",
    "Number of samples M = 500\n",
    "\n"
   ]
  },
  {
   "cell_type": "code",
   "execution_count": 55,
   "id": "e2904e5e",
   "metadata": {},
   "outputs": [
    {
     "name": "stdout",
     "output_type": "stream",
     "text": [
      "[tensor(0.0010), tensor(0.1678), tensor(4.5150), tensor(15.8764), tensor(30.5541), tensor(47.3833), tensor(56.9779), tensor(64.4709), tensor(70.0417), tensor(73.7418), tensor(76.3904), tensor(78.5091), tensor(79.8544), tensor(80.8670)]\n"
     ]
    },
    {
     "data": {
      "image/png": "[encoded data removed]",
      "text/plain": [
       "<Figure size 640x480 with 1 Axes>"
      ]
     },
     "metadata": {},
     "output_type": "display_data"
    }
   ],
   "source": [
    "import numpy as np\n",
    "import torch\n",
    "import matplotlib.pyplot as plt\n",
    "\n",
    "\n",
    "m = 500\n",
    "n = [1, 2, 5, 10, 20, 50, 100, 200, 400, 800, 1600, 3200, 6400, 12800]\n",
    "MeanNNDistance = []\n",
    "\n",
    "for dim in n:\n",
    "    # Creates a tensor of (m x ni)\n",
    "    Dataset = torch.rand(m, dim)\n",
    "\n",
    "    # (1 x m x n) - (m x 1 x n) broadcasting will make it (m x m x n)\n",
    "    diffs = Dataset[:, None, :] - Dataset[None, :, :]\n",
    "\n",
    "    # Calculate squared euclidean distance\n",
    "    EucDist = torch.sum(diffs**2, axis=2)\n",
    "\n",
    "    # Gets smallest 2 euclidean distances for each point\n",
    "    top2_values, top2_indices = torch.topk(EucDist, k=2, dim=1, largest=False)\n",
    "\n",
    "    # Calculates Average mean nearest neighbor distance\n",
    "    MeanNNDistance.append(torch.sum(top2_values) / dim)\n",
    "\n",
    "print(MeanNNDistance)\n",
    "\n",
    "xpoints = n\n",
    "ypoints = MeanNNDistance\n",
    " \n",
    "plt.plot(xpoints, ypoints)\n",
    "plt.show()"
   ]
  },
  {
   "cell_type": "code",
   "execution_count": 45,
   "id": "6b67afed",
   "metadata": {},
   "outputs": [
    {
     "name": "stdout",
     "output_type": "stream",
     "text": [
      "tensor([[7, 8],\n",
      "        [9, 9],\n",
      "        [7, 1]])\n",
      "tensor([[[ 0,  0],\n",
      "         [-2, -1],\n",
      "         [ 0,  7]],\n",
      "\n",
      "        [[ 2,  1],\n",
      "         [ 0,  0],\n",
      "         [ 2,  8]],\n",
      "\n",
      "        [[ 0, -7],\n",
      "         [-2, -8],\n",
      "         [ 0,  0]]])\n",
      "tensor([[ 0,  5, 49],\n",
      "        [ 5,  0, 68],\n",
      "        [49, 68,  0]])\n",
      "tensor([[ 0,  5],\n",
      "        [ 0,  5],\n",
      "        [ 0, 49]])\n",
      "tensor(29.5000)\n"
     ]
    }
   ],
   "source": [
    "m = 3\n",
    "dim = 2\n",
    "\n",
    "\n",
    "Dataset = torch.randint(low=1, high=10, size=(m,dim))\n",
    "\n",
    "    # (1 x m x n) - (m x 1 x n) broadcasting will make it (m x m x n)\n",
    "diffs = Dataset[:, None, :] - Dataset[None, :, :]\n",
    "\n",
    "    # Calculate squared euclidean distance\n",
    "EucDist = torch.sum(diffs**2, dim=2)\n",
    "\n",
    "top2_values, top2_indices = torch.topk(EucDist, k=2, dim=1, largest=False)\n",
    "\n",
    "MeanNNDistance = torch.sum(top2_values) / dim\n",
    "\n",
    "print(Dataset)\n",
    "print(diffs)\n",
    "print(EucDist)\n",
    "print(top2_values)\n",
    "print(MeanNNDistance)"
   ]
  }
 ],
 "metadata": {
  "kernelspec": {
   "display_name": ".venv",
   "language": "python",
   "name": "python3"
  },
  "language_info": {
   "codemirror_mode": {
    "name": "ipython",
    "version": 3
   },
   "file_extension": ".py",
   "mimetype": "text/x-python",
   "name": "python",
   "nbconvert_exporter": "python",
   "pygments_lexer": "ipython3",
   "version": "3.12.3"
  }
 },
 "nbformat": 4,
 "nbformat_minor": 5
}
