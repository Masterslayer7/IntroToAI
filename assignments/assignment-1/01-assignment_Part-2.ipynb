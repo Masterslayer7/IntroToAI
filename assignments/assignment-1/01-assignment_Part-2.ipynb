{
 "cells": [
  {
   "cell_type": "markdown",
   "id": "248485e0",
   "metadata": {},
   "source": [
    "# Logistic Regression"
   ]
  },
  {
   "cell_type": "markdown",
   "id": "6cf4ff12",
   "metadata": {},
   "source": [
    "## Accessing File"
   ]
  },
  {
   "cell_type": "code",
   "execution_count": null,
   "id": "2d310478",
   "metadata": {},
   "outputs": [
    {
     "name": "stderr",
     "output_type": "stream",
     "text": [
      "<frozen importlib._bootstrap>:488: RuntimeWarning: pyarrow.lib.IpcReadOptions size changed, may indicate binary incompatibility. Expected 104 from C header, got 112 from PyObject\n"
     ]
    },
    {
     "ename": "AttributeError",
     "evalue": "module 'pyarrow.lib' has no attribute 'PyExtensionType'",
     "output_type": "error",
     "traceback": [
      "\u001b[31m---------------------------------------------------------------------------\u001b[39m",
      "\u001b[31mAttributeError\u001b[39m                            Traceback (most recent call last)",
      "\u001b[36mCell\u001b[39m\u001b[36m \u001b[39m\u001b[32mIn[3]\u001b[39m\u001b[32m, line 4\u001b[39m\n\u001b[32m      2\u001b[39m \u001b[38;5;28;01mimport\u001b[39;00m \u001b[34;01mnumpy\u001b[39;00m \u001b[38;5;28;01mas\u001b[39;00m \u001b[34;01mnp\u001b[39;00m\n\u001b[32m      3\u001b[39m \u001b[38;5;28;01mimport\u001b[39;00m \u001b[34;01mtorch\u001b[39;00m\n\u001b[32m----> \u001b[39m\u001b[32m4\u001b[39m \u001b[38;5;28;01mimport\u001b[39;00m \u001b[34;01mcudf\u001b[39;00m\n\u001b[32m      6\u001b[39m filepath = \u001b[33m'\u001b[39m\u001b[33m/workspaces/eng-ai-agents/assignments/assignment-1/data/train.gz\u001b[39m\u001b[33m'\u001b[39m\n\u001b[32m      8\u001b[39m \u001b[38;5;66;03m# Read training data\u001b[39;00m\n",
      "\u001b[36mFile \u001b[39m\u001b[32m/workspaces/eng-ai-agents/.venv/lib/python3.12/site-packages/cudf/__init__.py:68\u001b[39m\n\u001b[32m     66\u001b[39m \u001b[38;5;28;01mfrom\u001b[39;00m \u001b[34;01mcudf\u001b[39;00m\u001b[34;01m.\u001b[39;00m\u001b[34;01mcore\u001b[39;00m\u001b[34;01m.\u001b[39;00m\u001b[34;01mtools\u001b[39;00m\u001b[34;01m.\u001b[39;00m\u001b[34;01mdatetimes\u001b[39;00m \u001b[38;5;28;01mimport\u001b[39;00m DateOffset, date_range, to_datetime\n\u001b[32m     67\u001b[39m \u001b[38;5;28;01mfrom\u001b[39;00m \u001b[34;01mcudf\u001b[39;00m\u001b[34;01m.\u001b[39;00m\u001b[34;01mcore\u001b[39;00m\u001b[34;01m.\u001b[39;00m\u001b[34;01mtools\u001b[39;00m\u001b[34;01m.\u001b[39;00m\u001b[34;01mnumeric\u001b[39;00m \u001b[38;5;28;01mimport\u001b[39;00m to_numeric\n\u001b[32m---> \u001b[39m\u001b[32m68\u001b[39m \u001b[38;5;28;01mfrom\u001b[39;00m \u001b[34;01mcudf\u001b[39;00m\u001b[34;01m.\u001b[39;00m\u001b[34;01mio\u001b[39;00m \u001b[38;5;28;01mimport\u001b[39;00m (\n\u001b[32m     69\u001b[39m     from_dlpack,\n\u001b[32m     70\u001b[39m     read_avro,\n\u001b[32m     71\u001b[39m     read_csv,\n\u001b[32m     72\u001b[39m     read_feather,\n\u001b[32m     73\u001b[39m     read_hdf,\n\u001b[32m     74\u001b[39m     read_json,\n\u001b[32m     75\u001b[39m     read_orc,\n\u001b[32m     76\u001b[39m     read_parquet,\n\u001b[32m     77\u001b[39m     read_text,\n\u001b[32m     78\u001b[39m )\n\u001b[32m     79\u001b[39m \u001b[38;5;28;01mfrom\u001b[39;00m \u001b[34;01mcudf\u001b[39;00m\u001b[34;01m.\u001b[39;00m\u001b[34;01moptions\u001b[39;00m \u001b[38;5;28;01mimport\u001b[39;00m (\n\u001b[32m     80\u001b[39m     describe_option,\n\u001b[32m     81\u001b[39m     get_option,\n\u001b[32m     82\u001b[39m     option_context,\n\u001b[32m     83\u001b[39m     set_option,\n\u001b[32m     84\u001b[39m )\n\u001b[32m     86\u001b[39m cuda.set_memory_manager(RMMNumbaManager)\n",
      "\u001b[36mFile \u001b[39m\u001b[32m/workspaces/eng-ai-agents/.venv/lib/python3.12/site-packages/cudf/io/__init__.py:5\u001b[39m\n\u001b[32m      3\u001b[39m \u001b[38;5;28;01mfrom\u001b[39;00m \u001b[34;01mcudf\u001b[39;00m\u001b[34;01m.\u001b[39;00m\u001b[34;01mio\u001b[39;00m\u001b[34;01m.\u001b[39;00m\u001b[34;01mcsv\u001b[39;00m \u001b[38;5;28;01mimport\u001b[39;00m read_csv, to_csv\n\u001b[32m      4\u001b[39m \u001b[38;5;28;01mfrom\u001b[39;00m \u001b[34;01mcudf\u001b[39;00m\u001b[34;01m.\u001b[39;00m\u001b[34;01mio\u001b[39;00m\u001b[34;01m.\u001b[39;00m\u001b[34;01mdlpack\u001b[39;00m \u001b[38;5;28;01mimport\u001b[39;00m from_dlpack\n\u001b[32m----> \u001b[39m\u001b[32m5\u001b[39m \u001b[38;5;28;01mfrom\u001b[39;00m \u001b[34;01mcudf\u001b[39;00m\u001b[34;01m.\u001b[39;00m\u001b[34;01mio\u001b[39;00m\u001b[34;01m.\u001b[39;00m\u001b[34;01mfeather\u001b[39;00m \u001b[38;5;28;01mimport\u001b[39;00m read_feather\n\u001b[32m      6\u001b[39m \u001b[38;5;28;01mfrom\u001b[39;00m \u001b[34;01mcudf\u001b[39;00m\u001b[34;01m.\u001b[39;00m\u001b[34;01mio\u001b[39;00m\u001b[34;01m.\u001b[39;00m\u001b[34;01mhdf\u001b[39;00m \u001b[38;5;28;01mimport\u001b[39;00m read_hdf\n\u001b[32m      7\u001b[39m \u001b[38;5;28;01mfrom\u001b[39;00m \u001b[34;01mcudf\u001b[39;00m\u001b[34;01m.\u001b[39;00m\u001b[34;01mio\u001b[39;00m\u001b[34;01m.\u001b[39;00m\u001b[34;01mjson\u001b[39;00m \u001b[38;5;28;01mimport\u001b[39;00m read_json\n",
      "\u001b[36mFile \u001b[39m\u001b[32m/workspaces/eng-ai-agents/.venv/lib/python3.12/site-packages/cudf/io/feather.py:5\u001b[39m\n\u001b[32m      1\u001b[39m \u001b[38;5;66;03m# Copyright (c) 2019, NVIDIA CORPORATION.\u001b[39;00m\n\u001b[32m      3\u001b[39m \u001b[38;5;28;01mimport\u001b[39;00m \u001b[34;01mwarnings\u001b[39;00m\n\u001b[32m----> \u001b[39m\u001b[32m5\u001b[39m \u001b[38;5;28;01mfrom\u001b[39;00m \u001b[34;01mpyarrow\u001b[39;00m \u001b[38;5;28;01mimport\u001b[39;00m feather\n\u001b[32m      7\u001b[39m \u001b[38;5;28;01mfrom\u001b[39;00m \u001b[34;01mcudf\u001b[39;00m\u001b[34;01m.\u001b[39;00m\u001b[34;01mcore\u001b[39;00m\u001b[34;01m.\u001b[39;00m\u001b[34;01mdataframe\u001b[39;00m \u001b[38;5;28;01mimport\u001b[39;00m DataFrame\n\u001b[32m      8\u001b[39m \u001b[38;5;28;01mfrom\u001b[39;00m \u001b[34;01mcudf\u001b[39;00m\u001b[34;01m.\u001b[39;00m\u001b[34;01mutils\u001b[39;00m \u001b[38;5;28;01mimport\u001b[39;00m ioutils\n",
      "\u001b[36mFile \u001b[39m\u001b[32m/workspaces/eng-ai-agents/.venv/lib/python3.12/site-packages/pyarrow/feather.py:25\u001b[39m\n\u001b[32m     22\u001b[39m \u001b[38;5;28;01mfrom\u001b[39;00m \u001b[34;01mpyarrow\u001b[39;00m\u001b[34;01m.\u001b[39;00m\u001b[34;01mlib\u001b[39;00m \u001b[38;5;28;01mimport\u001b[39;00m (Codec, Table,  \u001b[38;5;66;03m# noqa\u001b[39;00m\n\u001b[32m     23\u001b[39m                          concat_tables, schema)\n\u001b[32m     24\u001b[39m \u001b[38;5;28;01mimport\u001b[39;00m \u001b[34;01mpyarrow\u001b[39;00m\u001b[34;01m.\u001b[39;00m\u001b[34;01mlib\u001b[39;00m \u001b[38;5;28;01mas\u001b[39;00m \u001b[34;01mext\u001b[39;00m\n\u001b[32m---> \u001b[39m\u001b[32m25\u001b[39m \u001b[38;5;28;01mfrom\u001b[39;00m \u001b[34;01mpyarrow\u001b[39;00m \u001b[38;5;28;01mimport\u001b[39;00m _feather\n\u001b[32m     26\u001b[39m \u001b[38;5;28;01mfrom\u001b[39;00m \u001b[34;01mpyarrow\u001b[39;00m\u001b[34;01m.\u001b[39;00m\u001b[34;01m_feather\u001b[39;00m \u001b[38;5;28;01mimport\u001b[39;00m FeatherError  \u001b[38;5;66;03m# noqa: F401\u001b[39;00m\n\u001b[32m     29\u001b[39m \u001b[38;5;28;01mclass\u001b[39;00m \u001b[34;01mFeatherDataset\u001b[39;00m:\n",
      "\u001b[36mFile \u001b[39m\u001b[32m/workspaces/eng-ai-agents/.venv/lib/python3.12/site-packages/pyarrow/_feather.pyx:1\u001b[39m, in \u001b[36minit pyarrow._feather\u001b[39m\u001b[34m()\u001b[39m\n",
      "\u001b[31mAttributeError\u001b[39m: module 'pyarrow.lib' has no attribute 'PyExtensionType'"
     ]
    }
   ],
   "source": [
    "import pandas as pd\n",
    "import numpy as np\n",
    "import torch\n",
    "\n",
    "filepath = '/workspaces/eng-ai-agents/assignments/assignment-1/data/train.gz'\n",
    "\n",
    "# Read training data\n",
    "dataset = pd.read_csv(filepath)\n",
    "\n",
    "# Converts hours to proper data time format\n",
    "dataset['hour'] = pd.to_datetime(dataset['hour'], format='%y%m%d%H')\n",
    "\n",
    "\n",
    "\n",
    "dataset.head()\n",
    "    "
   ]
  },
  {
   "cell_type": "code",
   "execution_count": null,
   "id": "0914a253",
   "metadata": {},
   "outputs": [],
   "source": []
  }
 ],
 "metadata": {
  "kernelspec": {
   "display_name": ".venv",
   "language": "python",
   "name": "python3"
  },
  "language_info": {
   "codemirror_mode": {
    "name": "ipython",
    "version": 3
   },
   "file_extension": ".py",
   "mimetype": "text/x-python",
   "name": "python",
   "nbconvert_exporter": "python",
   "pygments_lexer": "ipython3",
   "version": "3.12.3"
  }
 },
 "nbformat": 4,
 "nbformat_minor": 5
}
